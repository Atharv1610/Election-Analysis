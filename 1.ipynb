{
 "cells": [
  {
   "cell_type": "code",
   "execution_count": 1,
   "metadata": {},
   "outputs": [],
   "source": [
    "import requests\n",
    "from bs4 import BeautifulSoup\n",
    "import pandas as pd"
   ]
  },
  {
   "cell_type": "code",
   "execution_count": 2,
   "metadata": {},
   "outputs": [],
   "source": [
    "def webScrape(links):\n",
    "  unique_urls = set()\n",
    "  for link in links:\n",
    "    response = requests.get(link)\n",
    "    html_content = response.content\n",
    "    soup = BeautifulSoup(html_content, 'html.parser')\n",
    "    buttons = soup.find_all('a')\n",
    "    url = {button['href'] for button in buttons if 'href' in button.attrs}\n",
    "    unique_urls.update(url)\n",
    "\n",
    "    for link in url:\n",
    "        print(link)\n",
    "    print(f\"Total Links: {len(unique_urls)}\")\n",
    "  return unique_urls"
   ]
  },
  {
   "cell_type": "code",
   "execution_count": 3,
   "metadata": {},
   "outputs": [
    {
     "name": "stdout",
     "output_type": "stream",
     "text": [
      "https://apps.apple.com/in/app/voter-helpline/id1456535004\n",
      "https://results.eci.gov.in/AcResultGenJune2024/index.htm\n",
      "https://results.eci.gov.in/PcResultGenJune2024/index.htm\n",
      "https://play.google.com/store/apps/details?id=com.eci.citizen\n",
      "https://results.eci.gov.in/AcResultGen2ndJune2024/index.htm\n",
      "index.htm\n",
      "https://results.eci.gov.in/AcResultByeJune2024/\n",
      "Total Links: 7\n"
     ]
    }
   ],
   "source": [
    "url = ['https://results.eci.gov.in/']\n",
    "urls = webScrape(url)"
   ]
  },
  {
   "cell_type": "code",
   "execution_count": 5,
   "metadata": {},
   "outputs": [
    {
     "name": "stdout",
     "output_type": "stream",
     "text": [
      "['https://results.eci.gov.in/AcResultGen2ndJune2024/index.htm', 'https://results.eci.gov.in/AcResultGenJune2024/index.htm', 'https://results.eci.gov.in/PcResultGenJune2024/index.htm']\n"
     ]
    }
   ],
   "source": [
    "filtered_urls = [url for url in urls if url.endswith('/index.htm')]\n",
    "print(filtered_urls)"
   ]
  },
  {
   "cell_type": "code",
   "execution_count": 7,
   "metadata": {},
   "outputs": [
    {
     "name": "stdout",
     "output_type": "stream",
     "text": [
      "Fetching data from https://results.eci.gov.in/AcResultGen2ndJune2024/index.htm\n",
      "Fetching data from https://results.eci.gov.in/AcResultGenJune2024/index.htm\n",
      "Fetching data from https://results.eci.gov.in/PcResultGenJune2024/index.htm\n",
      "Extracting data from table...\n",
      "Party | Won | Leading | Total | Total | 543 | 0 | 543\n",
      "Bharatiya Janata Party - BJP | 240 | 0 | 240\n",
      "Indian National Congress - INC | 99 | 0 | 99\n",
      "Samajwadi Party - SP | 37 | 0 | 37\n",
      "All India Trinamool Congress - AITC | 29 | 0 | 29\n",
      "Dravida Munnetra Kazhagam - DMK | 22 | 0 | 22\n",
      "Telugu Desam - TDP | 16 | 0 | 16\n",
      "Janata Dal  (United) - JD(U) | 12 | 0 | 12\n",
      "Shiv Sena (Uddhav Balasaheb Thackrey) - SHSUBT | 9 | 0 | 9\n",
      "Nationalist Congress Party – Sharadchandra Pawar - NCPSP | 8 | 0 | 8\n",
      "Shiv Sena - SHS | 7 | 0 | 7\n",
      "Lok Janshakti Party(Ram Vilas) - LJPRV | 5 | 0 | 5\n",
      "Yuvajana Sramika Rythu Congress Party - YSRCP | 4 | 0 | 4\n",
      "Rashtriya Janata Dal - RJD | 4 | 0 | 4\n",
      "Communist Party of India  (Marxist) - CPI(M) | 4 | 0 | 4\n",
      "Indian Union Muslim League - IUML | 3 | 0 | 3\n",
      "Aam Aadmi Party - AAAP | 3 | 0 | 3\n",
      "Jharkhand Mukti Morcha - JMM | 3 | 0 | 3\n",
      "Janasena Party - JnP | 2 | 0 | 2\n",
      "Communist Party of India  (Marxist-Leninist)  (Liberation) - CPI(ML)(L) | 2 | 0 | 2\n",
      "Janata Dal  (Secular) - JD(S) | 2 | 0 | 2\n",
      "Viduthalai Chiruthaigal Katchi - VCK | 2 | 0 | 2\n",
      "Communist Party of India - CPI | 2 | 0 | 2\n",
      "Rashtriya Lok Dal - RLD | 2 | 0 | 2\n",
      "Jammu & Kashmir National Conference - JKN | 2 | 0 | 2\n",
      "United People’s Party, Liberal - UPPL | 1 | 0 | 1\n",
      "Asom Gana Parishad - AGP | 1 | 0 | 1\n",
      "Hindustani Awam Morcha (Secular) - HAMS | 1 | 0 | 1\n",
      "Kerala Congress - KEC | 1 | 0 | 1\n",
      "Revolutionary Socialist Party - RSP | 1 | 0 | 1\n",
      "Nationalist Congress Party - NCP | 1 | 0 | 1\n",
      "Voice of the People Party - VOTPP | 1 | 0 | 1\n",
      "Zoram People’s Movement - ZPM | 1 | 0 | 1\n",
      "Shiromani Akali Dal - SAD | 1 | 0 | 1\n",
      "Rashtriya Loktantrik Party - RLTP | 1 | 0 | 1\n",
      "Bharat Adivasi Party - BHRTADVSIP | 1 | 0 | 1\n",
      "Sikkim Krantikari Morcha - SKM | 1 | 0 | 1\n",
      "Marumalarchi Dravida Munnetra Kazhagam - MDMK | 1 | 0 | 1\n",
      "Aazad Samaj Party (Kanshi Ram) - ASPKR | 1 | 0 | 1\n",
      "Apna Dal (Soneylal) - ADAL | 1 | 0 | 1\n",
      "AJSU Party - AJSUP | 1 | 0 | 1\n",
      "All India Majlis-E-Ittehadul Muslimeen - AIMIM | 1 | 0 | 1\n",
      "Independent - IND | 7 | 0 | 7\n",
      "\n"
     ]
    }
   ],
   "source": [
    "\n",
    "def fetch_data(url):\n",
    "    response = requests.get(url)\n",
    "    if response.status_code == 200:\n",
    "        page_content = response.content\n",
    "        soup = BeautifulSoup(page_content, 'html.parser')\n",
    "        return soup\n",
    "    else:\n",
    "        print(f\"Failed to retrieve {url}\")\n",
    "        return None\n",
    "\n",
    "# Function to extract and print relevant data from the parsed content\n",
    "def extract_data(soup):\n",
    "    # Extracting all table data\n",
    "    tables = soup.find_all('table')\n",
    "    for table in tables:\n",
    "        if table.find('th'):  # Ensure the table has headers\n",
    "            print(\"Extracting data from table...\")\n",
    "            headers = [th.text.strip() for th in table.find_all('th')]\n",
    "            print(\" | \".join(headers))\n",
    "\n",
    "            rows = table.find_all('tr')[1:]  # Skip the header row\n",
    "            for row in rows:\n",
    "                columns = row.find_all('td')\n",
    "                row_data = [column.text.strip() for column in columns]\n",
    "                print(\" | \".join(row_data))\n",
    "\n",
    "# Traverse each URL\n",
    "for url in filtered_urls:\n",
    "    print(f\"Fetching data from {url}\")\n",
    "    soup = fetch_data(url)\n",
    "    if soup:\n",
    "        extract_data(soup)\n",
    "    else:\n",
    "        print('Table do not exist')\n"
   ]
  },
  {
   "cell_type": "code",
   "execution_count": null,
   "metadata": {},
   "outputs": [],
   "source": []
  }
 ],
 "metadata": {
  "kernelspec": {
   "display_name": "base",
   "language": "python",
   "name": "python3"
  },
  "language_info": {
   "codemirror_mode": {
    "name": "ipython",
    "version": 3
   },
   "file_extension": ".py",
   "mimetype": "text/x-python",
   "name": "python",
   "nbconvert_exporter": "python",
   "pygments_lexer": "ipython3",
   "version": "3.9.13"
  }
 },
 "nbformat": 4,
 "nbformat_minor": 2
}
