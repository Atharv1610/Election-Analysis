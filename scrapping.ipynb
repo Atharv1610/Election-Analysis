{
 "cells": [
  {
   "cell_type": "code",
   "execution_count": 1,
   "metadata": {},
   "outputs": [],
   "source": [
    "import requests\n",
    "from bs4 import BeautifulSoup\n",
    "import pandas as pds"
   ]
  },
  {
   "cell_type": "code",
   "execution_count": 2,
   "metadata": {},
   "outputs": [],
   "source": [
    "def webScrape(links):\n",
    "  unique_urls = set()\n",
    "  for link in links:\n",
    "    response = requests.get(link)\n",
    "    html_content = response.content\n",
    "    soup = BeautifulSoup(html_content, 'html.parser')\n",
    "    buttons = soup.find_all('a')\n",
    "    url = {button['href'] for button in buttons if 'href' in button.attrs}\n",
    "    unique_urls.update(url)\n",
    "\n",
    "    for link in url:\n",
    "        print(link)\n",
    "    print(f\"Total Links: {len(unique_urls)}\")\n",
    "  return unique_urls"
   ]
  },
  {
   "cell_type": "code",
   "execution_count": 3,
   "metadata": {},
   "outputs": [
    {
     "name": "stdout",
     "output_type": "stream",
     "text": [
      "https://play.google.com/store/apps/details?id=com.eci.citizen\n",
      "https://results.eci.gov.in/AcResultGen2ndJune2024/index.htm\n",
      "https://results.eci.gov.in/AcResultGenJune2024/index.htm\n",
      "https://results.eci.gov.in/AcResultByeJune2024/\n",
      "index.htm\n",
      "https://results.eci.gov.in/PcResultGenJune2024/index.htm\n",
      "https://apps.apple.com/in/app/voter-helpline/id1456535004\n",
      "Total Links: 7\n"
     ]
    }
   ],
   "source": [
    "url = ['https://results.eci.gov.in/']\n",
    "urls = webScrape(url)"
   ]
  },
  {
   "cell_type": "code",
   "execution_count": 4,
   "metadata": {},
   "outputs": [
    {
     "name": "stdout",
     "output_type": "stream",
     "text": [
      "['https://results.eci.gov.in/AcResultGen2ndJune2024/index.htm', 'https://results.eci.gov.in/AcResultGenJune2024/index.htm', 'https://results.eci.gov.in/PcResultGenJune2024/index.htm']\n"
     ]
    }
   ],
   "source": [
    "filtered_urls = [url for url in urls if url.endswith('/index.htm')]\n",
    "print(filtered_urls)"
   ]
  },
  {
   "cell_type": "code",
   "execution_count": 5,
   "metadata": {},
   "outputs": [
    {
     "name": "stdout",
     "output_type": "stream",
     "text": [
      "Fetching data from https://results.eci.gov.in/AcResultGen2ndJune2024/index.htm\n",
      "Class tables found in https://results.eci.gov.in/AcResultGen2ndJune2024/index.htm:\n",
      "\n",
      "Fetching data from https://results.eci.gov.in/AcResultGenJune2024/index.htm\n",
      "Class tables found in https://results.eci.gov.in/AcResultGenJune2024/index.htm:\n",
      "\n",
      "Fetching data from https://results.eci.gov.in/PcResultGenJune2024/index.htm\n",
      "Class tables found in https://results.eci.gov.in/PcResultGenJune2024/index.htm:\n",
      "\n",
      "https://results.eci.gov.in/PcResultGenJune2024/index.htm\n"
     ]
    }
   ],
   "source": [
    "def fetch_data(url):\n",
    "    response = requests.get(url)\n",
    "    if response.status_code == 200:\n",
    "        page_content = response.content\n",
    "        soup = BeautifulSoup(page_content, 'html.parser')\n",
    "        return soup\n",
    "    else:\n",
    "        print(f\"Failed to retrieve {url}\")\n",
    "        return None\n",
    "\n",
    "def categorize_tables(soup, url):\n",
    "    class_table = []\n",
    "    non_class_table = []\n",
    "    \n",
    "    tables = soup.find_all('table')\n",
    "    for table in tables:\n",
    "        if 'table' in table.get('class', []):\n",
    "            class_table.append(url) \n",
    "        else:\n",
    "            non_class_table.append(table)\n",
    "    \n",
    "    return class_table, non_class_table\n",
    "\n",
    "def extract_data(tables, category):\n",
    "    print(f\"\\nExtracting data from {category} tables...\")\n",
    "    for table in tables:\n",
    "        print(table) \n",
    "\n",
    "# Traverse each URL\n",
    "for url in filtered_urls:\n",
    "    print(f\"Fetching data from {url}\")\n",
    "    soup = fetch_data(url)\n",
    "    if soup:\n",
    "        class_tables, non_class_tables = categorize_tables(soup, url)\n",
    "        \n",
    "        # Print the URLs of class tables\n",
    "        print(f\"Class tables found in {url}:\")\n",
    "        print()\n",
    "        \n",
    "        for table_url in class_tables:\n",
    "            print(table_url)\n"
   ]
  },
  {
   "cell_type": "code",
   "execution_count": 6,
   "metadata": {},
   "outputs": [
    {
     "name": "stdout",
     "output_type": "stream",
     "text": [
      "['https://results.eci.gov.in/PcResultGenJune2024/index.htm']\n"
     ]
    }
   ],
   "source": [
    "print(class_tables)"
   ]
  },
  {
   "cell_type": "code",
   "execution_count": 7,
   "metadata": {},
   "outputs": [
    {
     "name": "stdout",
     "output_type": "stream",
     "text": [
      "Fetching data from https://results.eci.gov.in/PcResultGenJune2024/index.htm\n",
      "Data written to csv_files\\PcResultGenJune2024.csv\n"
     ]
    }
   ],
   "source": [
    "import csv\n",
    "import os\n",
    "\n",
    "def fetch_data(url):\n",
    "    response = requests.get(url)\n",
    "    if response.status_code == 200:\n",
    "        page_content = response.content\n",
    "        soup = BeautifulSoup(page_content, 'html.parser')\n",
    "        return soup\n",
    "    else:\n",
    "        print(f\"Failed to retrieve {url}\")\n",
    "        return None\n",
    "\n",
    "def extract_data_to_csv(soup, filename):\n",
    "    with open(filename, 'w', newline='', encoding='utf-8') as csvfile:\n",
    "        writer = csv.writer(csvfile)\n",
    "        tables = soup.find_all('table')\n",
    "        for table in tables:\n",
    "            if table.find('th'): \n",
    "                headers = [th.text.strip() for th in table.find_all('th')]\n",
    "                writer.writerow(headers)\n",
    "\n",
    "                rows = table.find_all('tr')[1:]  \n",
    "                for row in rows:\n",
    "                    columns = row.find_all('td')\n",
    "                    row_data = [column.text.strip() for column in columns]\n",
    "                    writer.writerow(row_data)\n",
    "\n",
    "output_folder = 'csv_files'\n",
    "os.makedirs(output_folder, exist_ok=True)\n",
    "\n",
    "for url in class_tables:\n",
    "    print(f\"Fetching data from {url}\")\n",
    "    soup = fetch_data(url)\n",
    "    if soup:\n",
    "        filename = os.path.join(output_folder, f\"{url.split('/')[-2]}.csv\")  \n",
    "        extract_data_to_csv(soup, filename)\n",
    "        print(f\"Data written to {filename}\")\n"
   ]
  },
  {
   "cell_type": "code",
   "execution_count": 8,
   "metadata": {},
   "outputs": [],
   "source": [
    "url = 'https://results.eci.gov.in/PcResultGenJune2024/index.htm'\n",
    "\n",
    "response = requests.get(url)\n",
    "soup = BeautifulSoup(response.content, 'html.parser')\n",
    "dropdown = soup.find('select', id='ctl00_ContentPlaceHolder1_Result1_ddlState')\n",
    "    "
   ]
  },
  {
   "cell_type": "code",
   "execution_count": 9,
   "metadata": {},
   "outputs": [
    {
     "name": "stdout",
     "output_type": "stream",
     "text": [
      "<select id=\"ctl00_ContentPlaceHolder1_Result1_ddlState\" name=\"state\" onchange=\"return GetResult(this)\"> <option value=\"\"> Select State Wise </option><option value=\"U01\">Andaman &amp; Nicobar Islands</option><option value=\"S01\">Andhra Pradesh</option><option value=\"S02\">Arunachal Pradesh</option><option value=\"S03\">Assam</option><option value=\"S04\">Bihar</option><option value=\"U02\">Chandigarh</option><option value=\"S26\">Chhattisgarh</option><option value=\"U03\">Dadra &amp; Nagar Haveli and Daman &amp; Diu</option><option value=\"S05\">Goa</option><option value=\"S06\">Gujarat</option><option value=\"S07\">Haryana</option><option value=\"S08\">Himachal Pradesh</option><option value=\"U08\">Jammu and Kashmir</option><option value=\"S27\">Jharkhand</option><option value=\"S10\">Karnataka</option><option value=\"S11\">Kerala</option><option value=\"U09\">Ladakh</option><option value=\"U06\">Lakshadweep</option><option value=\"S12\">Madhya Pradesh</option><option value=\"S13\">Maharashtra</option><option value=\"S14\">Manipur</option><option value=\"S15\">Meghalaya</option><option value=\"S16\">Mizoram</option><option value=\"S17\">Nagaland</option><option value=\"U05\">NCT OF Delhi</option><option value=\"S18\">Odisha</option><option value=\"U07\">Puducherry</option><option value=\"S19\">Punjab</option><option value=\"S20\">Rajasthan</option><option value=\"S21\">Sikkim</option><option value=\"S22\">Tamil Nadu</option><option value=\"S29\">Telangana</option><option value=\"S23\">Tripura</option><option value=\"S24\">Uttar Pradesh</option><option value=\"S28\">Uttarakhand</option><option value=\"S25\">West Bengal</option></select>\n"
     ]
    }
   ],
   "source": [
    "print(dropdown)"
   ]
  },
  {
   "cell_type": "code",
   "execution_count": 12,
   "metadata": {},
   "outputs": [
    {
     "name": "stdout",
     "output_type": "stream",
     "text": [
      "Andaman & Nicobar Islands: https://results.eci.gov.in/PcResultGenJune2024/partywiseresult-U01.htm\n",
      "Andhra Pradesh: https://results.eci.gov.in/PcResultGenJune2024/partywiseresult-S01.htm\n",
      "Arunachal Pradesh: https://results.eci.gov.in/PcResultGenJune2024/partywiseresult-S02.htm\n",
      "Assam: https://results.eci.gov.in/PcResultGenJune2024/partywiseresult-S03.htm\n",
      "Bihar: https://results.eci.gov.in/PcResultGenJune2024/partywiseresult-S04.htm\n",
      "Chandigarh: https://results.eci.gov.in/PcResultGenJune2024/partywiseresult-U02.htm\n",
      "Chhattisgarh: https://results.eci.gov.in/PcResultGenJune2024/partywiseresult-S26.htm\n",
      "Dadra & Nagar Haveli and Daman & Diu: https://results.eci.gov.in/PcResultGenJune2024/partywiseresult-U03.htm\n",
      "Goa: https://results.eci.gov.in/PcResultGenJune2024/partywiseresult-S05.htm\n",
      "Gujarat: https://results.eci.gov.in/PcResultGenJune2024/partywiseresult-S06.htm\n",
      "Haryana: https://results.eci.gov.in/PcResultGenJune2024/partywiseresult-S07.htm\n",
      "Himachal Pradesh: https://results.eci.gov.in/PcResultGenJune2024/partywiseresult-S08.htm\n",
      "Jammu and Kashmir: https://results.eci.gov.in/PcResultGenJune2024/partywiseresult-U08.htm\n",
      "Jharkhand: https://results.eci.gov.in/PcResultGenJune2024/partywiseresult-S27.htm\n",
      "Karnataka: https://results.eci.gov.in/PcResultGenJune2024/partywiseresult-S10.htm\n",
      "Kerala: https://results.eci.gov.in/PcResultGenJune2024/partywiseresult-S11.htm\n",
      "Ladakh: https://results.eci.gov.in/PcResultGenJune2024/partywiseresult-U09.htm\n",
      "Lakshadweep: https://results.eci.gov.in/PcResultGenJune2024/partywiseresult-U06.htm\n",
      "Madhya Pradesh: https://results.eci.gov.in/PcResultGenJune2024/partywiseresult-S12.htm\n",
      "Maharashtra: https://results.eci.gov.in/PcResultGenJune2024/partywiseresult-S13.htm\n",
      "Manipur: https://results.eci.gov.in/PcResultGenJune2024/partywiseresult-S14.htm\n",
      "Meghalaya: https://results.eci.gov.in/PcResultGenJune2024/partywiseresult-S15.htm\n",
      "Mizoram: https://results.eci.gov.in/PcResultGenJune2024/partywiseresult-S16.htm\n",
      "Nagaland: https://results.eci.gov.in/PcResultGenJune2024/partywiseresult-S17.htm\n",
      "NCT OF Delhi: https://results.eci.gov.in/PcResultGenJune2024/partywiseresult-U05.htm\n",
      "Odisha: https://results.eci.gov.in/PcResultGenJune2024/partywiseresult-S18.htm\n",
      "Puducherry: https://results.eci.gov.in/PcResultGenJune2024/partywiseresult-U07.htm\n",
      "Punjab: https://results.eci.gov.in/PcResultGenJune2024/partywiseresult-S19.htm\n",
      "Rajasthan: https://results.eci.gov.in/PcResultGenJune2024/partywiseresult-S20.htm\n",
      "Sikkim: https://results.eci.gov.in/PcResultGenJune2024/partywiseresult-S21.htm\n",
      "Tamil Nadu: https://results.eci.gov.in/PcResultGenJune2024/partywiseresult-S22.htm\n",
      "Telangana: https://results.eci.gov.in/PcResultGenJune2024/partywiseresult-S29.htm\n",
      "Tripura: https://results.eci.gov.in/PcResultGenJune2024/partywiseresult-S23.htm\n",
      "Uttar Pradesh: https://results.eci.gov.in/PcResultGenJune2024/partywiseresult-S24.htm\n",
      "Uttarakhand: https://results.eci.gov.in/PcResultGenJune2024/partywiseresult-S28.htm\n",
      "West Bengal: https://results.eci.gov.in/PcResultGenJune2024/partywiseresult-S25.htm\n"
     ]
    }
   ],
   "source": [
    "state_links = {}\n",
    "if dropdown:\n",
    "    options = dropdown.find_all('option')\n",
    "    for option in options:\n",
    "        option_value = option.get('value')\n",
    "        if option_value:  # Check if option_value is not None or empty\n",
    "            state_name = option.text.strip()\n",
    "            state_links[state_name] = 'https://results.eci.gov.in/PcResultGenJune2024/partywiseresult-' + option_value + '.htm'\n",
    "else:\n",
    "    print(\"Dropdown not found.\")\n",
    "\n",
    "# Print the dictionary to see the result\n",
    "for state, link in state_links.items():\n",
    "    print(f'{state}: {link}')"
   ]
  },
  {
   "cell_type": "code",
   "execution_count": 14,
   "metadata": {},
   "outputs": [
    {
     "name": "stdout",
     "output_type": "stream",
     "text": [
      "Fetching data from https://results.eci.gov.in/PcResultGenJune2024/partywiseresult-U01.htm\n",
      "Data written to csv_statefiles\\Andaman_and_Nicobar_Islands.csv\n",
      "Fetching data from https://results.eci.gov.in/PcResultGenJune2024/partywiseresult-S01.htm\n",
      "Data written to csv_statefiles\\Andhra_Pradesh.csv\n",
      "Fetching data from https://results.eci.gov.in/PcResultGenJune2024/partywiseresult-S02.htm\n",
      "Data written to csv_statefiles\\Arunachal_Pradesh.csv\n",
      "Fetching data from https://results.eci.gov.in/PcResultGenJune2024/partywiseresult-S03.htm\n",
      "Data written to csv_statefiles\\Assam.csv\n",
      "Fetching data from https://results.eci.gov.in/PcResultGenJune2024/partywiseresult-S04.htm\n",
      "Data written to csv_statefiles\\Bihar.csv\n",
      "Fetching data from https://results.eci.gov.in/PcResultGenJune2024/partywiseresult-U02.htm\n",
      "Data written to csv_statefiles\\Chandigarh.csv\n",
      "Fetching data from https://results.eci.gov.in/PcResultGenJune2024/partywiseresult-S26.htm\n",
      "Data written to csv_statefiles\\Chhattisgarh.csv\n",
      "Fetching data from https://results.eci.gov.in/PcResultGenJune2024/partywiseresult-U03.htm\n",
      "Data written to csv_statefiles\\Dadra_and_Nagar_Haveli_and_Daman_and_Diu.csv\n",
      "Fetching data from https://results.eci.gov.in/PcResultGenJune2024/partywiseresult-S05.htm\n",
      "Data written to csv_statefiles\\Goa.csv\n",
      "Fetching data from https://results.eci.gov.in/PcResultGenJune2024/partywiseresult-S06.htm\n",
      "Data written to csv_statefiles\\Gujarat.csv\n",
      "Fetching data from https://results.eci.gov.in/PcResultGenJune2024/partywiseresult-S07.htm\n",
      "Data written to csv_statefiles\\Haryana.csv\n",
      "Fetching data from https://results.eci.gov.in/PcResultGenJune2024/partywiseresult-S08.htm\n",
      "Data written to csv_statefiles\\Himachal_Pradesh.csv\n",
      "Fetching data from https://results.eci.gov.in/PcResultGenJune2024/partywiseresult-U08.htm\n",
      "Data written to csv_statefiles\\Jammu_and_Kashmir.csv\n",
      "Fetching data from https://results.eci.gov.in/PcResultGenJune2024/partywiseresult-S27.htm\n",
      "Data written to csv_statefiles\\Jharkhand.csv\n",
      "Fetching data from https://results.eci.gov.in/PcResultGenJune2024/partywiseresult-S10.htm\n",
      "Data written to csv_statefiles\\Karnataka.csv\n",
      "Fetching data from https://results.eci.gov.in/PcResultGenJune2024/partywiseresult-S11.htm\n",
      "Data written to csv_statefiles\\Kerala.csv\n",
      "Fetching data from https://results.eci.gov.in/PcResultGenJune2024/partywiseresult-U09.htm\n",
      "Data written to csv_statefiles\\Ladakh.csv\n",
      "Fetching data from https://results.eci.gov.in/PcResultGenJune2024/partywiseresult-U06.htm\n",
      "Data written to csv_statefiles\\Lakshadweep.csv\n",
      "Fetching data from https://results.eci.gov.in/PcResultGenJune2024/partywiseresult-S12.htm\n",
      "Data written to csv_statefiles\\Madhya_Pradesh.csv\n",
      "Fetching data from https://results.eci.gov.in/PcResultGenJune2024/partywiseresult-S13.htm\n",
      "Data written to csv_statefiles\\Maharashtra.csv\n",
      "Fetching data from https://results.eci.gov.in/PcResultGenJune2024/partywiseresult-S14.htm\n",
      "Data written to csv_statefiles\\Manipur.csv\n",
      "Fetching data from https://results.eci.gov.in/PcResultGenJune2024/partywiseresult-S15.htm\n",
      "Data written to csv_statefiles\\Meghalaya.csv\n",
      "Fetching data from https://results.eci.gov.in/PcResultGenJune2024/partywiseresult-S16.htm\n",
      "Data written to csv_statefiles\\Mizoram.csv\n",
      "Fetching data from https://results.eci.gov.in/PcResultGenJune2024/partywiseresult-S17.htm\n",
      "Data written to csv_statefiles\\Nagaland.csv\n",
      "Fetching data from https://results.eci.gov.in/PcResultGenJune2024/partywiseresult-U05.htm\n",
      "Data written to csv_statefiles\\NCT_OF_Delhi.csv\n",
      "Fetching data from https://results.eci.gov.in/PcResultGenJune2024/partywiseresult-S18.htm\n",
      "Data written to csv_statefiles\\Odisha.csv\n",
      "Fetching data from https://results.eci.gov.in/PcResultGenJune2024/partywiseresult-U07.htm\n",
      "Data written to csv_statefiles\\Puducherry.csv\n",
      "Fetching data from https://results.eci.gov.in/PcResultGenJune2024/partywiseresult-S19.htm\n",
      "Data written to csv_statefiles\\Punjab.csv\n",
      "Fetching data from https://results.eci.gov.in/PcResultGenJune2024/partywiseresult-S20.htm\n",
      "Data written to csv_statefiles\\Rajasthan.csv\n",
      "Fetching data from https://results.eci.gov.in/PcResultGenJune2024/partywiseresult-S21.htm\n",
      "Data written to csv_statefiles\\Sikkim.csv\n",
      "Fetching data from https://results.eci.gov.in/PcResultGenJune2024/partywiseresult-S22.htm\n",
      "Data written to csv_statefiles\\Tamil_Nadu.csv\n",
      "Fetching data from https://results.eci.gov.in/PcResultGenJune2024/partywiseresult-S29.htm\n",
      "Data written to csv_statefiles\\Telangana.csv\n",
      "Fetching data from https://results.eci.gov.in/PcResultGenJune2024/partywiseresult-S23.htm\n",
      "Data written to csv_statefiles\\Tripura.csv\n",
      "Fetching data from https://results.eci.gov.in/PcResultGenJune2024/partywiseresult-S24.htm\n",
      "Data written to csv_statefiles\\Uttar_Pradesh.csv\n",
      "Fetching data from https://results.eci.gov.in/PcResultGenJune2024/partywiseresult-S28.htm\n",
      "Data written to csv_statefiles\\Uttarakhand.csv\n",
      "Fetching data from https://results.eci.gov.in/PcResultGenJune2024/partywiseresult-S25.htm\n",
      "Data written to csv_statefiles\\West_Bengal.csv\n"
     ]
    }
   ],
   "source": [
    "import requests\n",
    "from bs4 import BeautifulSoup\n",
    "import csv\n",
    "import os\n",
    "\n",
    "def fetch_data(url):\n",
    "    response = requests.get(url)\n",
    "    if response.status_code == 200:\n",
    "        page_content = response.content\n",
    "        soup = BeautifulSoup(page_content, 'html.parser')\n",
    "        return soup\n",
    "    else:\n",
    "        print(f\"Failed to retrieve {url}\")\n",
    "        return None\n",
    "\n",
    "def extract_data_to_csv(soup, filename):\n",
    "    with open(filename, 'w', newline='', encoding='utf-8') as csvfile:\n",
    "        writer = csv.writer(csvfile)\n",
    "        tables = soup.find_all('table')\n",
    "        for table in tables:\n",
    "            if table.find('th'): \n",
    "                headers = [th.text.strip() for th in table.find_all('th')]\n",
    "                writer.writerow(headers)\n",
    "\n",
    "                rows = table.find_all('tr')[1:]  \n",
    "                for row in rows:\n",
    "                    columns = row.find_all('td')\n",
    "                    row_data = [column.text.strip() for column in columns]\n",
    "                    writer.writerow(row_data)\n",
    "\n",
    "output_folder = 'csv_statefiles'\n",
    "os.makedirs(output_folder, exist_ok=True)\n",
    "\n",
    "for state_name, url in state_links.items():\n",
    "    print(f\"Fetching data from {url}\")\n",
    "    soup = fetch_data(url)\n",
    "    if soup:\n",
    "        # Replace spaces with underscores and remove any special characters for the filename\n",
    "        safe_state_name = state_name.replace(\" \", \"_\").replace(\"&\", \"and\")\n",
    "        filename = os.path.join(output_folder, f\"{safe_state_name}.csv\")\n",
    "        extract_data_to_csv(soup, filename)\n",
    "        print(f\"Data written to {filename}\")"
   ]
  }
 ],
 "metadata": {
  "kernelspec": {
   "display_name": "base",
   "language": "python",
   "name": "python3"
  },
  "language_info": {
   "codemirror_mode": {
    "name": "ipython",
    "version": 3
   },
   "file_extension": ".py",
   "mimetype": "text/x-python",
   "name": "python",
   "nbconvert_exporter": "python",
   "pygments_lexer": "ipython3",
   "version": "3.9.13"
  }
 },
 "nbformat": 4,
 "nbformat_minor": 2
}
